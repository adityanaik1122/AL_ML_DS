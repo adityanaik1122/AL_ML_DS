{
 "cells": [
  {
   "cell_type": "markdown",
   "id": "f53bb888",
   "metadata": {},
   "source": [
    "## Numpy array aand basics  Learn Numpy"
   ]
  },
  {
   "cell_type": "code",
   "execution_count": 23,
   "id": "ed359134",
   "metadata": {},
   "outputs": [],
   "source": [
    "import numpy as np "
   ]
  },
  {
   "cell_type": "code",
   "execution_count": 24,
   "id": "d0697e25",
   "metadata": {},
   "outputs": [],
   "source": [
    "## creating array from list"
   ]
  },
  {
   "cell_type": "code",
   "execution_count": 25,
   "id": "6609b5e6",
   "metadata": {},
   "outputs": [
    {
     "name": "stdout",
     "output_type": "stream",
     "text": [
      "1D array [1 2 3 4 5]\n",
      "2D array [[1 2 3]\n",
      " [4 5 6]]\n"
     ]
    }
   ],
   "source": [
    "arr_1d = np.array([1,2,3,4,5])\n",
    "print(\"1D array\",arr_1d)\n",
    "\n",
    "arr_2d = np.array([[1,2,3], [4,5,6]])\n",
    "print(\"2D array\",arr_2d)"
   ]
  },
  {
   "cell_type": "code",
   "execution_count": 26,
   "id": "cb3a7f23",
   "metadata": {},
   "outputs": [],
   "source": [
    "## list vs numpy array"
   ]
  },
  {
   "cell_type": "code",
   "execution_count": 27,
   "id": "f9687189",
   "metadata": {},
   "outputs": [
    {
     "name": "stdout",
     "output_type": "stream",
     "text": [
      "python list multiplication [1, 2, 3, 1, 2, 3]\n",
      "python list multiplication [2 4 6]\n"
     ]
    }
   ],
   "source": [
    "py_list = [1,2,3]\n",
    "print(\"python list multiplication\", py_list * 2)\n",
    "\n",
    "np_array = np.array([1,2,3])\n",
    "print(\"python list multiplication\", np_array * 2)"
   ]
  },
  {
   "cell_type": "code",
   "execution_count": 29,
   "id": "025562dd",
   "metadata": {},
   "outputs": [
    {
     "name": "stdout",
     "output_type": "stream",
     "text": [
      "\n",
      " list operation time 0.004702091217041016\n",
      "\n",
      " numpy operation time 0.0058405399322509766\n"
     ]
    }
   ],
   "source": [
    "import time\n",
    "start = time.time()\n",
    "py_list = [i*2 for i in range(100000)]\n",
    "print(\"\\n list operation time\",time.time() - start)\n",
    "\n",
    "start = time.time()\n",
    "np_array = np.arange(1000000) *  2\n",
    "print(\"\\n numpy operation time\",time.time() - start)"
   ]
  },
  {
   "cell_type": "code",
   "execution_count": 30,
   "id": "b8491995",
   "metadata": {},
   "outputs": [],
   "source": [
    "## creating array from strach"
   ]
  },
  {
   "cell_type": "code",
   "execution_count": 41,
   "id": "0c566114",
   "metadata": {},
   "outputs": [
    {
     "name": "stdout",
     "output_type": "stream",
     "text": [
      "zeros array : \n",
      " [[0. 0. 0. 0.]\n",
      " [0. 0. 0. 0.]\n",
      " [0. 0. 0. 0.]]\n",
      "ones array : \n",
      " [[1. 1. 1.]\n",
      " [1. 1. 1.]]\n",
      "full array : \n",
      " [[7 7 7]\n",
      " [7 7 7]]\n",
      "random array : \n",
      " [[0.37299664 0.39336849 0.96418433]\n",
      " [0.8327723  0.53355936 0.98983143]]\n",
      "sequence array : \n",
      " [0 2 4 6 8]\n"
     ]
    }
   ],
   "source": [
    "zeros = np.zeros((3,4))\n",
    "print(\"zeros array : \\n\",zeros)\n",
    "\n",
    "ones = np.ones((2,3))\n",
    "print(\"ones array : \\n\",ones)\n",
    "\n",
    "full = np.full((2,3), 7)\n",
    "print(\"full array : \\n\",full)\n",
    "\n",
    "random = np.random.random((2,3))\n",
    "print(\"random array : \\n\",random)\n",
    "\n",
    "sequence  = np.arange(0,10,2)\n",
    "print(\"sequence array : \\n\",sequence)"
   ]
  },
  {
   "cell_type": "code",
   "execution_count": 37,
   "id": "d1160d6c",
   "metadata": {},
   "outputs": [],
   "source": [
    "##vector , matrix and tensor"
   ]
  },
  {
   "cell_type": "code",
   "execution_count": 44,
   "id": "0f5898e5",
   "metadata": {},
   "outputs": [
    {
     "name": "stdout",
     "output_type": "stream",
     "text": [
      "vector : \n",
      " [1 2 3]\n",
      "matrix : \n",
      " [[1 2 3]\n",
      " [4 5 6]]\n",
      "tensor : \n",
      " [[[1 2]\n",
      "  [4 5]]\n",
      "\n",
      " [[5 6]\n",
      "  [7 8]]]\n"
     ]
    }
   ],
   "source": [
    "vector = np.array([1,2,3])\n",
    "print(\"vector : \\n\",vector)\n",
    "\n",
    "matrix = np.array([[1,2,3], [4,5,6]])\n",
    "print(\"matrix : \\n\",matrix)\n",
    "\n",
    "tensor = np.array([[[1,2], [4,5]], [[5,6], [7,8]]])\n",
    "print(\"tensor : \\n\",tensor)"
   ]
  },
  {
   "cell_type": "code",
   "execution_count": 45,
   "id": "b102c3cf",
   "metadata": {},
   "outputs": [],
   "source": [
    "## Array properties\n"
   ]
  },
  {
   "cell_type": "code",
   "execution_count": 51,
   "id": "eb6f17e2",
   "metadata": {},
   "outputs": [
    {
     "name": "stdout",
     "output_type": "stream",
     "text": [
      "shape of array : (2, 3)\n",
      "dimention of array : 2\n",
      "size of array : 6\n",
      "datatype of array : <U21\n"
     ]
    }
   ],
   "source": [
    "arr = np.array([[1,2,3], [4,5,'8.88']])\n",
    "print(\"shape of array :\",arr.shape)\n",
    "print(\"dimention of array :\",arr.ndim)\n",
    "print(\"size of array :\",arr.size)\n",
    "print(\"datatype of array :\",arr.dtype)"
   ]
  },
  {
   "cell_type": "code",
   "execution_count": 52,
   "id": "7b39dfec",
   "metadata": {},
   "outputs": [],
   "source": [
    "# Array Reshaping"
   ]
  },
  {
   "cell_type": "code",
   "execution_count": 66,
   "id": "bea77cf8",
   "metadata": {},
   "outputs": [
    {
     "name": "stdout",
     "output_type": "stream",
     "text": [
      "original array [ 0  1  2  3  4  5  6  7  8  9 10 11]\n",
      "reshaped array [[ 0  1  2]\n",
      " [ 3  4  5]\n",
      " [ 6  7  8]\n",
      " [ 9 10 11]]\n",
      "flatten array [ 0  1  2  3  4  5  6  7  8  9 10 11]\n",
      "raveled array [ 0  1  2  3  4  5  6  7  8  9 10 11]\n",
      "transpose array [[ 0  3  6  9]\n",
      " [ 1  4  7 10]\n",
      " [ 2  5  8 11]]\n"
     ]
    }
   ],
   "source": [
    "arr= np.arange(12)\n",
    "print(\"original array\",arr)\n",
    "\n",
    "reshaped = arr.reshape((4,3))\n",
    "print(\"reshaped array\",reshaped)\n",
    "\n",
    "flattened = reshaped.flatten()\n",
    "print(\"flatten array\",flattened)\n",
    "\n",
    "# ravel (returns view, insted of copy)\n",
    "raveled = reshaped.ravel()\n",
    "print(\"raveled array\",raveled)\n",
    "\n",
    "#transpose \n",
    "transposed = reshaped.T\n",
    "print(\"transpose array\",transposed)"
   ]
  }
 ],
 "metadata": {
  "kernelspec": {
   "display_name": "Python 3",
   "language": "python",
   "name": "python3"
  },
  "language_info": {
   "codemirror_mode": {
    "name": "ipython",
    "version": 3
   },
   "file_extension": ".py",
   "mimetype": "text/x-python",
   "name": "python",
   "nbconvert_exporter": "python",
   "pygments_lexer": "ipython3",
   "version": "3.11.9"
  }
 },
 "nbformat": 4,
 "nbformat_minor": 5
}
